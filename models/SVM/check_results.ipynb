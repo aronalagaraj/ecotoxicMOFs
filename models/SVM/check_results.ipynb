{
 "cells": [
  {
   "cell_type": "code",
   "execution_count": 1,
   "metadata": {
    "collapsed": true,
    "ExecuteTime": {
     "end_time": "2024-04-05T18:21:51.041763Z",
     "start_time": "2024-04-05T18:21:49.684088Z"
    }
   },
   "outputs": [],
   "source": [
    "import numpy as np\n",
    "import pandas as pd\n",
    "\n",
    "from sklearn.metrics import accuracy_score, recall_score\n",
    "from sklearn.feature_selection import RFECV, SelectKBest\n",
    "from sklearn.model_selection import train_test_split, cross_val_score, StratifiedKFold\n",
    "from sklearn.preprocessing import StandardScaler, MinMaxScaler\n",
    "from sklearn.svm import SVC\n",
    "\n",
    "from hyperopt import fmin, tpe, STATUS_OK, Trials, SparkTrials, hp, space_eval\n",
    "from imblearn.over_sampling import RandomOverSampler\n",
    "\n",
    "from joblib import dump, load\n",
    "import pyspark\n",
    "import os\n",
    "import time"
   ]
  },
  {
   "cell_type": "code",
   "execution_count": 2,
   "outputs": [],
   "source": [
    "complete_data = pd.read_csv('Data/complete_data.csv')\n",
    "descriptors = pd.read_csv('Data/descriptors.csv')\n",
    "class_data = pd.read_csv('Data/class_data.csv')"
   ],
   "metadata": {
    "collapsed": false,
    "ExecuteTime": {
     "end_time": "2024-04-05T18:21:51.057252Z",
     "start_time": "2024-04-05T18:21:51.042193Z"
    }
   }
  },
  {
   "cell_type": "code",
   "execution_count": 3,
   "outputs": [
    {
     "name": "stderr",
     "output_type": "stream",
     "text": [
      "/var/folders/wl/vkrd4x2j7fs5_ybd9y74b2xm0000gn/T/ipykernel_60805/4091702182.py:2: RuntimeWarning: overflow encountered in cast\n",
      "  X = np.nan_to_num(x.astype(np.float32))\n"
     ]
    }
   ],
   "source": [
    "x = np.array(descriptors)\n",
    "X = np.nan_to_num(x.astype(np.float32))\n",
    "\n",
    "y = np.array(class_data['2-Class'])\n",
    "y = (y + 1) / 2"
   ],
   "metadata": {
    "collapsed": false,
    "ExecuteTime": {
     "end_time": "2024-04-05T18:21:51.061503Z",
     "start_time": "2024-04-05T18:21:51.057650Z"
    }
   }
  },
  {
   "cell_type": "code",
   "execution_count": 4,
   "outputs": [],
   "source": [
    "oversample = RandomOverSampler(sampling_strategy='minority')\n",
    "X_over, y_over = oversample.fit_resample(X, y)\n",
    "\n",
    "train_acc_matrix = np.zeros(20)\n",
    "test_acc_matrix = np.zeros(20)\n",
    "delta_matrix = np.zeros(20)\n",
    "train_rec_matrix = np.zeros(20)\n",
    "test_rec_matrix = np.zeros(20)\n",
    "\n",
    "features = np.array([10 * (i + 1) for i in range(20)])\n",
    "features[19] = features[19] - 1"
   ],
   "metadata": {
    "collapsed": false,
    "ExecuteTime": {
     "end_time": "2024-04-05T18:21:51.084708Z",
     "start_time": "2024-04-05T18:21:51.061938Z"
    }
   }
  },
  {
   "cell_type": "code",
   "execution_count": 6,
   "outputs": [
    {
     "name": "stderr",
     "output_type": "stream",
     "text": [
      "/Users/aronalagaraj/miniconda3/lib/python3.11/site-packages/sklearn/feature_selection/_univariate_selection.py:112: UserWarning: Features [ 57  70 126 144 146 148 150 151 162 166 169 173 175 185 187 191 192 196] are constant.\n",
      "  warnings.warn(\"Features %s are constant.\" % constant_features_idx, UserWarning)\n",
      "/Users/aronalagaraj/miniconda3/lib/python3.11/site-packages/sklearn/feature_selection/_univariate_selection.py:113: RuntimeWarning: invalid value encountered in divide\n",
      "  f = msb / msw\n",
      "/Users/aronalagaraj/miniconda3/lib/python3.11/site-packages/sklearn/utils/_param_validation.py:591: FutureWarning: Passing an int for a boolean parameter is deprecated in version 1.2 and won't be supported anymore in version 1.4.\n",
      "  warnings.warn(\n",
      "/Users/aronalagaraj/miniconda3/lib/python3.11/site-packages/sklearn/feature_selection/_univariate_selection.py:112: UserWarning: Features [ 57  70 126 144 146 148 150 151 162 166 169 173 175 185 187 191 192 196] are constant.\n",
      "  warnings.warn(\"Features %s are constant.\" % constant_features_idx, UserWarning)\n",
      "/Users/aronalagaraj/miniconda3/lib/python3.11/site-packages/sklearn/feature_selection/_univariate_selection.py:113: RuntimeWarning: invalid value encountered in divide\n",
      "  f = msb / msw\n",
      "/Users/aronalagaraj/miniconda3/lib/python3.11/site-packages/sklearn/utils/_param_validation.py:591: FutureWarning: Passing an int for a boolean parameter is deprecated in version 1.2 and won't be supported anymore in version 1.4.\n",
      "  warnings.warn(\n",
      "/Users/aronalagaraj/miniconda3/lib/python3.11/site-packages/sklearn/feature_selection/_univariate_selection.py:112: UserWarning: Features [ 57  70 126 144 146 148 150 151 162 166 169 173 175 185 187 191 192 196] are constant.\n",
      "  warnings.warn(\"Features %s are constant.\" % constant_features_idx, UserWarning)\n",
      "/Users/aronalagaraj/miniconda3/lib/python3.11/site-packages/sklearn/feature_selection/_univariate_selection.py:113: RuntimeWarning: invalid value encountered in divide\n",
      "  f = msb / msw\n",
      "/Users/aronalagaraj/miniconda3/lib/python3.11/site-packages/sklearn/utils/_param_validation.py:591: FutureWarning: Passing an int for a boolean parameter is deprecated in version 1.2 and won't be supported anymore in version 1.4.\n",
      "  warnings.warn(\n",
      "/Users/aronalagaraj/miniconda3/lib/python3.11/site-packages/sklearn/feature_selection/_univariate_selection.py:112: UserWarning: Features [ 57  70 126 144 146 148 150 151 162 166 169 173 175 185 187 191 192 196] are constant.\n",
      "  warnings.warn(\"Features %s are constant.\" % constant_features_idx, UserWarning)\n",
      "/Users/aronalagaraj/miniconda3/lib/python3.11/site-packages/sklearn/feature_selection/_univariate_selection.py:113: RuntimeWarning: invalid value encountered in divide\n",
      "  f = msb / msw\n",
      "/Users/aronalagaraj/miniconda3/lib/python3.11/site-packages/sklearn/utils/_param_validation.py:591: FutureWarning: Passing an int for a boolean parameter is deprecated in version 1.2 and won't be supported anymore in version 1.4.\n",
      "  warnings.warn(\n",
      "/Users/aronalagaraj/miniconda3/lib/python3.11/site-packages/sklearn/feature_selection/_univariate_selection.py:112: UserWarning: Features [ 57  70 126 144 146 148 150 151 162 166 169 173 175 185 187 191 192 196] are constant.\n",
      "  warnings.warn(\"Features %s are constant.\" % constant_features_idx, UserWarning)\n",
      "/Users/aronalagaraj/miniconda3/lib/python3.11/site-packages/sklearn/feature_selection/_univariate_selection.py:113: RuntimeWarning: invalid value encountered in divide\n",
      "  f = msb / msw\n",
      "/Users/aronalagaraj/miniconda3/lib/python3.11/site-packages/sklearn/utils/_param_validation.py:591: FutureWarning: Passing an int for a boolean parameter is deprecated in version 1.2 and won't be supported anymore in version 1.4.\n",
      "  warnings.warn(\n",
      "/Users/aronalagaraj/miniconda3/lib/python3.11/site-packages/sklearn/feature_selection/_univariate_selection.py:112: UserWarning: Features [ 57  70 126 144 146 148 150 151 162 166 169 173 175 185 187 191 192 196] are constant.\n",
      "  warnings.warn(\"Features %s are constant.\" % constant_features_idx, UserWarning)\n",
      "/Users/aronalagaraj/miniconda3/lib/python3.11/site-packages/sklearn/feature_selection/_univariate_selection.py:113: RuntimeWarning: invalid value encountered in divide\n",
      "  f = msb / msw\n",
      "/Users/aronalagaraj/miniconda3/lib/python3.11/site-packages/sklearn/utils/_param_validation.py:591: FutureWarning: Passing an int for a boolean parameter is deprecated in version 1.2 and won't be supported anymore in version 1.4.\n",
      "  warnings.warn(\n",
      "/Users/aronalagaraj/miniconda3/lib/python3.11/site-packages/sklearn/feature_selection/_univariate_selection.py:112: UserWarning: Features [ 57  70 126 144 146 148 150 151 162 166 169 173 175 185 187 191 192 196] are constant.\n",
      "  warnings.warn(\"Features %s are constant.\" % constant_features_idx, UserWarning)\n",
      "/Users/aronalagaraj/miniconda3/lib/python3.11/site-packages/sklearn/feature_selection/_univariate_selection.py:113: RuntimeWarning: invalid value encountered in divide\n",
      "  f = msb / msw\n",
      "/Users/aronalagaraj/miniconda3/lib/python3.11/site-packages/sklearn/utils/_param_validation.py:591: FutureWarning: Passing an int for a boolean parameter is deprecated in version 1.2 and won't be supported anymore in version 1.4.\n",
      "  warnings.warn(\n",
      "/Users/aronalagaraj/miniconda3/lib/python3.11/site-packages/sklearn/feature_selection/_univariate_selection.py:112: UserWarning: Features [ 57  70 126 144 146 148 150 151 162 166 169 173 175 185 187 191 192 196] are constant.\n",
      "  warnings.warn(\"Features %s are constant.\" % constant_features_idx, UserWarning)\n",
      "/Users/aronalagaraj/miniconda3/lib/python3.11/site-packages/sklearn/feature_selection/_univariate_selection.py:113: RuntimeWarning: invalid value encountered in divide\n",
      "  f = msb / msw\n",
      "/Users/aronalagaraj/miniconda3/lib/python3.11/site-packages/sklearn/utils/_param_validation.py:591: FutureWarning: Passing an int for a boolean parameter is deprecated in version 1.2 and won't be supported anymore in version 1.4.\n",
      "  warnings.warn(\n",
      "/Users/aronalagaraj/miniconda3/lib/python3.11/site-packages/sklearn/feature_selection/_univariate_selection.py:112: UserWarning: Features [ 57  70 126 144 146 148 150 151 162 166 169 173 175 185 187 191 192 196] are constant.\n",
      "  warnings.warn(\"Features %s are constant.\" % constant_features_idx, UserWarning)\n",
      "/Users/aronalagaraj/miniconda3/lib/python3.11/site-packages/sklearn/feature_selection/_univariate_selection.py:113: RuntimeWarning: invalid value encountered in divide\n",
      "  f = msb / msw\n",
      "/Users/aronalagaraj/miniconda3/lib/python3.11/site-packages/sklearn/utils/_param_validation.py:591: FutureWarning: Passing an int for a boolean parameter is deprecated in version 1.2 and won't be supported anymore in version 1.4.\n",
      "  warnings.warn(\n",
      "/Users/aronalagaraj/miniconda3/lib/python3.11/site-packages/sklearn/feature_selection/_univariate_selection.py:112: UserWarning: Features [ 57  70 126 144 146 148 150 151 162 166 169 173 175 185 187 191 192 196] are constant.\n",
      "  warnings.warn(\"Features %s are constant.\" % constant_features_idx, UserWarning)\n",
      "/Users/aronalagaraj/miniconda3/lib/python3.11/site-packages/sklearn/feature_selection/_univariate_selection.py:113: RuntimeWarning: invalid value encountered in divide\n",
      "  f = msb / msw\n",
      "/Users/aronalagaraj/miniconda3/lib/python3.11/site-packages/sklearn/utils/_param_validation.py:591: FutureWarning: Passing an int for a boolean parameter is deprecated in version 1.2 and won't be supported anymore in version 1.4.\n",
      "  warnings.warn(\n",
      "/Users/aronalagaraj/miniconda3/lib/python3.11/site-packages/sklearn/feature_selection/_univariate_selection.py:112: UserWarning: Features [ 57  70 126 144 146 148 150 151 162 166 169 173 175 185 187 191 192 196] are constant.\n",
      "  warnings.warn(\"Features %s are constant.\" % constant_features_idx, UserWarning)\n",
      "/Users/aronalagaraj/miniconda3/lib/python3.11/site-packages/sklearn/feature_selection/_univariate_selection.py:113: RuntimeWarning: invalid value encountered in divide\n",
      "  f = msb / msw\n",
      "/Users/aronalagaraj/miniconda3/lib/python3.11/site-packages/sklearn/utils/_param_validation.py:591: FutureWarning: Passing an int for a boolean parameter is deprecated in version 1.2 and won't be supported anymore in version 1.4.\n",
      "  warnings.warn(\n",
      "/Users/aronalagaraj/miniconda3/lib/python3.11/site-packages/sklearn/feature_selection/_univariate_selection.py:112: UserWarning: Features [ 57  70 126 144 146 148 150 151 162 166 169 173 175 185 187 191 192 196] are constant.\n",
      "  warnings.warn(\"Features %s are constant.\" % constant_features_idx, UserWarning)\n",
      "/Users/aronalagaraj/miniconda3/lib/python3.11/site-packages/sklearn/feature_selection/_univariate_selection.py:113: RuntimeWarning: invalid value encountered in divide\n",
      "  f = msb / msw\n",
      "/Users/aronalagaraj/miniconda3/lib/python3.11/site-packages/sklearn/utils/_param_validation.py:591: FutureWarning: Passing an int for a boolean parameter is deprecated in version 1.2 and won't be supported anymore in version 1.4.\n",
      "  warnings.warn(\n",
      "/Users/aronalagaraj/miniconda3/lib/python3.11/site-packages/sklearn/feature_selection/_univariate_selection.py:112: UserWarning: Features [ 57  70 126 144 146 148 150 151 162 166 169 173 175 185 187 191 192 196] are constant.\n",
      "  warnings.warn(\"Features %s are constant.\" % constant_features_idx, UserWarning)\n",
      "/Users/aronalagaraj/miniconda3/lib/python3.11/site-packages/sklearn/feature_selection/_univariate_selection.py:113: RuntimeWarning: invalid value encountered in divide\n",
      "  f = msb / msw\n",
      "/Users/aronalagaraj/miniconda3/lib/python3.11/site-packages/sklearn/utils/_param_validation.py:591: FutureWarning: Passing an int for a boolean parameter is deprecated in version 1.2 and won't be supported anymore in version 1.4.\n",
      "  warnings.warn(\n",
      "/Users/aronalagaraj/miniconda3/lib/python3.11/site-packages/sklearn/feature_selection/_univariate_selection.py:112: UserWarning: Features [ 57  70 126 144 146 148 150 151 162 166 169 173 175 185 187 191 192 196] are constant.\n",
      "  warnings.warn(\"Features %s are constant.\" % constant_features_idx, UserWarning)\n",
      "/Users/aronalagaraj/miniconda3/lib/python3.11/site-packages/sklearn/feature_selection/_univariate_selection.py:113: RuntimeWarning: invalid value encountered in divide\n",
      "  f = msb / msw\n",
      "/Users/aronalagaraj/miniconda3/lib/python3.11/site-packages/sklearn/utils/_param_validation.py:591: FutureWarning: Passing an int for a boolean parameter is deprecated in version 1.2 and won't be supported anymore in version 1.4.\n",
      "  warnings.warn(\n",
      "/Users/aronalagaraj/miniconda3/lib/python3.11/site-packages/sklearn/feature_selection/_univariate_selection.py:112: UserWarning: Features [ 57  70 126 144 146 148 150 151 162 166 169 173 175 185 187 191 192 196] are constant.\n",
      "  warnings.warn(\"Features %s are constant.\" % constant_features_idx, UserWarning)\n",
      "/Users/aronalagaraj/miniconda3/lib/python3.11/site-packages/sklearn/feature_selection/_univariate_selection.py:113: RuntimeWarning: invalid value encountered in divide\n",
      "  f = msb / msw\n",
      "/Users/aronalagaraj/miniconda3/lib/python3.11/site-packages/sklearn/utils/_param_validation.py:591: FutureWarning: Passing an int for a boolean parameter is deprecated in version 1.2 and won't be supported anymore in version 1.4.\n",
      "  warnings.warn(\n",
      "/Users/aronalagaraj/miniconda3/lib/python3.11/site-packages/sklearn/feature_selection/_univariate_selection.py:112: UserWarning: Features [ 57  70 126 144 146 148 150 151 162 166 169 173 175 185 187 191 192 196] are constant.\n",
      "  warnings.warn(\"Features %s are constant.\" % constant_features_idx, UserWarning)\n",
      "/Users/aronalagaraj/miniconda3/lib/python3.11/site-packages/sklearn/feature_selection/_univariate_selection.py:113: RuntimeWarning: invalid value encountered in divide\n",
      "  f = msb / msw\n",
      "/Users/aronalagaraj/miniconda3/lib/python3.11/site-packages/sklearn/utils/_param_validation.py:591: FutureWarning: Passing an int for a boolean parameter is deprecated in version 1.2 and won't be supported anymore in version 1.4.\n",
      "  warnings.warn(\n",
      "/Users/aronalagaraj/miniconda3/lib/python3.11/site-packages/sklearn/feature_selection/_univariate_selection.py:112: UserWarning: Features [ 57  70 126 144 146 148 150 151 162 166 169 173 175 185 187 191 192 196] are constant.\n",
      "  warnings.warn(\"Features %s are constant.\" % constant_features_idx, UserWarning)\n",
      "/Users/aronalagaraj/miniconda3/lib/python3.11/site-packages/sklearn/feature_selection/_univariate_selection.py:113: RuntimeWarning: invalid value encountered in divide\n",
      "  f = msb / msw\n",
      "/Users/aronalagaraj/miniconda3/lib/python3.11/site-packages/sklearn/utils/_param_validation.py:591: FutureWarning: Passing an int for a boolean parameter is deprecated in version 1.2 and won't be supported anymore in version 1.4.\n",
      "  warnings.warn(\n",
      "/Users/aronalagaraj/miniconda3/lib/python3.11/site-packages/sklearn/feature_selection/_univariate_selection.py:112: UserWarning: Features [ 57  70 126 144 146 148 150 151 162 166 169 173 175 185 187 191 192 196] are constant.\n",
      "  warnings.warn(\"Features %s are constant.\" % constant_features_idx, UserWarning)\n",
      "/Users/aronalagaraj/miniconda3/lib/python3.11/site-packages/sklearn/feature_selection/_univariate_selection.py:113: RuntimeWarning: invalid value encountered in divide\n",
      "  f = msb / msw\n",
      "/Users/aronalagaraj/miniconda3/lib/python3.11/site-packages/sklearn/utils/_param_validation.py:591: FutureWarning: Passing an int for a boolean parameter is deprecated in version 1.2 and won't be supported anymore in version 1.4.\n",
      "  warnings.warn(\n",
      "/Users/aronalagaraj/miniconda3/lib/python3.11/site-packages/sklearn/feature_selection/_univariate_selection.py:112: UserWarning: Features [ 57  70 126 144 146 148 150 151 162 166 169 173 175 185 187 191 192 196] are constant.\n",
      "  warnings.warn(\"Features %s are constant.\" % constant_features_idx, UserWarning)\n",
      "/Users/aronalagaraj/miniconda3/lib/python3.11/site-packages/sklearn/feature_selection/_univariate_selection.py:113: RuntimeWarning: invalid value encountered in divide\n",
      "  f = msb / msw\n",
      "/Users/aronalagaraj/miniconda3/lib/python3.11/site-packages/sklearn/utils/_param_validation.py:591: FutureWarning: Passing an int for a boolean parameter is deprecated in version 1.2 and won't be supported anymore in version 1.4.\n",
      "  warnings.warn(\n",
      "/Users/aronalagaraj/miniconda3/lib/python3.11/site-packages/sklearn/feature_selection/_univariate_selection.py:112: UserWarning: Features [ 57  70 126 144 146 148 150 151 162 166 169 173 175 185 187 191 192 196] are constant.\n",
      "  warnings.warn(\"Features %s are constant.\" % constant_features_idx, UserWarning)\n",
      "/Users/aronalagaraj/miniconda3/lib/python3.11/site-packages/sklearn/feature_selection/_univariate_selection.py:113: RuntimeWarning: invalid value encountered in divide\n",
      "  f = msb / msw\n",
      "/Users/aronalagaraj/miniconda3/lib/python3.11/site-packages/sklearn/utils/_param_validation.py:591: FutureWarning: Passing an int for a boolean parameter is deprecated in version 1.2 and won't be supported anymore in version 1.4.\n",
      "  warnings.warn(\n"
     ]
    }
   ],
   "source": [
    "for j in range(20):\n",
    "    k = (j + 1) * 10 if j != 19 else 199\n",
    "\n",
    "    X_train, X_test, y_train, y_test = train_test_split(X_over, y_over, test_size=0.2, random_state=42,\n",
    "                                                        stratify=y_over)\n",
    "\n",
    "    scaler = StandardScaler()\n",
    "    X_train = scaler.fit_transform(X_train)\n",
    "    X_test = scaler.transform(X_test)\n",
    "\n",
    "    selector = SelectKBest(k=k)\n",
    "    X_train = selector.fit_transform(X_train, y_train)\n",
    "    X_test = selector.transform(X_test)\n",
    "\n",
    "    best_j = load(f'SVM_imbalance_recall_loop_3/best_model_recall_loop_{j}.joblib')\n",
    "    kernel = ['linear', 'poly', 'rbf']\n",
    "    degree = [2, 3, 4, 5]\n",
    "\n",
    "    model = SVC(random_state=42, C=best_j['C'], kernel=kernel[best_j['kernel']], gamma=best_j['gamma'],\n",
    "                degree=degree[best_j['degree']], shrinking=best_j['shrinking'])\n",
    "\n",
    "    # model = load(f'SVM_imbalance_recall_loop/test_model_recall_loop_{i}.joblib')\n",
    "    model.fit(X_train, y_train)\n",
    "\n",
    "    train_acc = accuracy_score(y_train, model.predict(X_train))\n",
    "    test_acc = accuracy_score(y_test, model.predict(X_test))\n",
    "\n",
    "    train_rec = recall_score(y_train, model.predict(X_train))\n",
    "    test_rec = recall_score(y_test, model.predict(X_test))\n",
    "\n",
    "    train_acc_matrix[j] = train_acc\n",
    "    test_acc_matrix[j] = test_acc\n",
    "    delta_matrix[j] = abs(train_acc - test_acc)\n",
    "    train_rec_matrix[j] = train_rec\n",
    "    test_rec_matrix[j] = test_rec"
   ],
   "metadata": {
    "collapsed": false,
    "ExecuteTime": {
     "end_time": "2024-04-05T18:22:34.908111Z",
     "start_time": "2024-04-05T18:22:32.999823Z"
    }
   }
  },
  {
   "cell_type": "code",
   "execution_count": 7,
   "outputs": [
    {
     "name": "stdout",
     "output_type": "stream",
     "text": [
      "[0.97818792 0.99161074 0.99496644 0.98993289 0.99496644 0.99496644\n",
      " 0.99496644 0.99496644 0.98154362 0.99496644 0.99496644 0.99496644\n",
      " 0.99496644 0.99496644 0.99496644 0.99496644 0.99496644 0.99496644\n",
      " 0.99496644 0.99496644] \n",
      "\n",
      "[0.88       0.87333333 0.86666667 0.87333333 0.88       0.88\n",
      " 0.88       0.88       0.88666667 0.88       0.88       0.88\n",
      " 0.88       0.88       0.88       0.87333333 0.88       0.88\n",
      " 0.88       0.87333333] \n",
      "\n",
      "[0.09818792 0.1182774  0.12829978 0.11659955 0.11496644 0.11496644\n",
      " 0.11496644 0.11496644 0.09487696 0.11496644 0.11496644 0.11496644\n",
      " 0.11496644 0.11496644 0.11496644 0.12163311 0.11496644 0.11496644\n",
      " 0.11496644 0.12163311] \n",
      "\n",
      "[0.97315436 0.99328859 1.         0.98993289 1.         1.\n",
      " 1.         1.         0.97651007 1.         1.         1.\n",
      " 1.         1.         1.         1.         1.         1.\n",
      " 1.         1.        ] \n",
      "\n",
      "[0.94666667 0.97333333 0.96       0.98666667 1.         1.\n",
      " 1.         1.         0.96       1.         1.         1.\n",
      " 1.         1.         1.         0.98666667 1.         1.\n",
      " 1.         0.98666667] \n",
      "\n"
     ]
    }
   ],
   "source": [
    "print(train_acc_matrix, '\\n')\n",
    "print(test_acc_matrix, '\\n')\n",
    "print(delta_matrix, '\\n')\n",
    "print(train_rec_matrix, '\\n')\n",
    "print(test_rec_matrix, '\\n')"
   ],
   "metadata": {
    "collapsed": false,
    "ExecuteTime": {
     "end_time": "2024-04-05T18:22:43.383802Z",
     "start_time": "2024-04-05T18:22:43.379070Z"
    }
   }
  },
  {
   "cell_type": "code",
   "execution_count": null,
   "outputs": [],
   "source": [
    "i = 5\n",
    "k = (i + 1) * 10 if i != 19 else 199\n",
    "\n",
    "X_train, X_test, y_train, y_test = train_test_split(X_over, y_over, test_size=0.2, random_state=42, stratify=y_over)\n",
    "\n",
    "scaler = StandardScaler()\n",
    "X_train = scaler.fit_transform(X_train)\n",
    "X_test = scaler.transform(X_test)\n",
    "\n",
    "selector = SelectKBest(k=k)\n",
    "X_train = selector.fit_transform(X_train, y_train)\n",
    "X_test = selector.transform(X_test)\n",
    "\n",
    "best_j = load(f'SVM_imbalance_recall_loop_delta_1/best_model_recall_loop_{i}.joblib')\n",
    "kernel = ['linear', 'poly', 'rbf']\n",
    "degree = [2, 3, 4, 5]\n",
    "\n",
    "model = SVC(random_state=42, C=best_j['C'], kernel=kernel[best_j['kernel']], gamma=best_j['gamma'],\n",
    "            degree=degree[best_j['degree']], shrinking=bool(best_j['shrinking']))\n",
    "\n",
    "# model = load(f'SVM_imbalance_recall_loop/test_model_recall_loop_{j}.joblib')\n",
    "model.fit(X_train, y_train)\n",
    "\n",
    "train_acc = accuracy_score(y_train, model.predict(X_train))\n",
    "test_acc = accuracy_score(y_test, model.predict(X_test))\n",
    "train_rec = recall_score(y_train, model.predict(X_train))\n",
    "test_rec = recall_score(y_test, model.predict(X_test))\n",
    "\n",
    "print(f'Train Accuracy: {train_acc}')\n",
    "print(f'Test Accuracy: {test_acc}')\n",
    "\n",
    "print(f'Train Recall: {train_rec}')\n",
    "print(f'Test Recall: {test_rec}')"
   ],
   "metadata": {
    "collapsed": false
   }
  },
  {
   "cell_type": "code",
   "execution_count": null,
   "outputs": [],
   "source": [
    "print(descriptors.columns[selector.get_support()])"
   ],
   "metadata": {
    "collapsed": false
   }
  },
  {
   "cell_type": "code",
   "execution_count": null,
   "outputs": [],
   "source": [],
   "metadata": {
    "collapsed": false
   }
  }
 ],
 "metadata": {
  "kernelspec": {
   "display_name": "Python 3",
   "language": "python",
   "name": "python3"
  },
  "language_info": {
   "codemirror_mode": {
    "name": "ipython",
    "version": 2
   },
   "file_extension": ".py",
   "mimetype": "text/x-python",
   "name": "python",
   "nbconvert_exporter": "python",
   "pygments_lexer": "ipython2",
   "version": "2.7.6"
  }
 },
 "nbformat": 4,
 "nbformat_minor": 0
}
